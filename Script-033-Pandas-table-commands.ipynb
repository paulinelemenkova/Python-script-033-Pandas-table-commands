{
 "cells": [
  {
   "cell_type": "code",
   "execution_count": 2,
   "metadata": {
    "scrolled": true
   },
   "outputs": [
    {
     "name": "stdout",
     "output_type": "stream",
     "text": [
      "<class 'pandas.core.frame.DataFrame'>\n"
     ]
    },
    {
     "data": {
      "text/plain": [
       "count      25.000000\n",
       "mean    -1432.000000\n",
       "std       731.277421\n",
       "min     -3150.000000\n",
       "25%     -1900.000000\n",
       "50%     -1450.000000\n",
       "75%     -1200.000000\n",
       "max         0.000000\n",
       "Name: Max, dtype: float64"
      ]
     },
     "execution_count": 2,
     "metadata": {},
     "output_type": "execute_result"
    },
    {
     "data": {
      "image/png": "[encoded data removed]",
      "text/plain": [
       "<Figure size 432x288 with 1 Axes>"
      ]
     },
     "metadata": {
      "needs_background": "light"
     },
     "output_type": "display_data"
    }
   ],
   "source": [
    "# libraries\n",
    "from mpl_toolkits.mplot3d import Axes3D\n",
    "import matplotlib.pyplot as plt\n",
    "from matplotlib.colors import ListedColormap\n",
    "import numpy as np\n",
    "import seaborn as sns\n",
    "import pandas as pd\n",
    "\n",
    "# Dataset\n",
    "df = pd.read_csv(\"Tab-Bathy.csv\")\n",
    "\n",
    "X = df.iloc[0:516, 1:13]\n",
    "X\n",
    "\n",
    "B = df.loc[12]\n",
    "B\n",
    "\n",
    "data = pd.read_csv(\"Tab-Morph.csv\")\n",
    "\n",
    "strong = data['slope_class'] == 8\n",
    "strong\n",
    "\n",
    "profile_15 = data.loc[data['profile'] == 15, ['sedim_thick', 'slope_angle', 'igneous_volc']]\n",
    "profile_15\n",
    "\n",
    "# What is the maximal bathymetric depth ?\n",
    "data['Min'].min()\n",
    "\n",
    "# What is the maximal sediment thickness ?\n",
    "data['sedim_thick'].max()\n",
    "\n",
    "data['slope_angle'].max()\n",
    "\n",
    "# How many data belong to each of the slope class?\n",
    "data['slope_class'].value_counts()\n",
    "\n",
    "# Summary displaying statistics for the selected variable: Mariana tectonic plate\n",
    "data['sedim_thick'].describe()\n",
    "\n",
    "# Splitting the data into different groups bya variable\n",
    "data.groupby(['slope_class']).groups.keys()\n",
    "\n",
    "#data.groupby('slope_class')['profile'].sum() # produces Pandas Series\n",
    "data.groupby('slope_class', as_index=False)[['profile']].sum() # produces Pandas DF\n",
    "\n",
    "#print(df.head)\n",
    "print(type(data))\n",
    "#df\n",
    "#data\n",
    "\n",
    "data.shape\n",
    "df.shape\n",
    "data.ndim\n",
    "df.ndim\n",
    "data.head()\n",
    "df.tail()\n",
    "data.dtypes\n",
    "df['profile13'].describe()\n",
    "\n",
    "data.sedim_thick\n",
    "data['sedim_thick']\n",
    "data.loc[:, 'sedim_thick']\n",
    "data.iloc[:, [1, 2, 3, 4]]\n",
    "data.iloc[0:5, :] # selecting 5 first rows\n",
    "\n",
    "df['profile23'].plot(kind='hist', bins=100)\n",
    "plt.xlabel('depths')\n",
    "plt.ylabel('frequency')\n",
    "\n",
    "data.plate_maria\n",
    "data['plate_maria'].sum()\n",
    "data['plate_pacif'].sum()\n",
    "data['plate_phill'].sum()\n",
    "data['plate_carol'].sum()\n",
    "data['sedim_thick'].sum()\n",
    "data['slope_angle'].sum()\n",
    "data['igneous_volc'].sum()\n",
    "data['aspect_degree'].sum()\n",
    "data['hillshade'].sum()\n",
    "data['Max'].describe()"
   ]
  },
  {
   "cell_type": "code",
   "execution_count": null,
   "metadata": {},
   "outputs": [],
   "source": []
  }
 ],
 "metadata": {
  "kernelspec": {
   "display_name": "Python 3",
   "language": "python",
   "name": "python3"
  },
  "language_info": {
   "codemirror_mode": {
    "name": "ipython",
    "version": 3
   },
   "file_extension": ".py",
   "mimetype": "text/x-python",
   "name": "python",
   "nbconvert_exporter": "python",
   "pygments_lexer": "ipython3",
   "version": "3.7.2"
  }
 },
 "nbformat": 4,
 "nbformat_minor": 2
}
